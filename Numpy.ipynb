{
 "cells": [
  {
   "cell_type": "code",
   "execution_count": 1,
   "id": "1e6de536-d725-41f6-88f2-1399df2e0d3a",
   "metadata": {},
   "outputs": [
    {
     "name": "stdout",
     "output_type": "stream",
     "text": [
      "hiihelo\n"
     ]
    }
   ],
   "source": [
    "print('hii'+'helo')"
   ]
  },
  {
   "cell_type": "code",
   "execution_count": 2,
   "id": "548c205f-5410-440b-bc1d-df6679d859aa",
   "metadata": {},
   "outputs": [
    {
     "data": {
      "text/plain": [
       "5.333333333333333"
      ]
     },
     "execution_count": 2,
     "metadata": {},
     "output_type": "execute_result"
    }
   ],
   "source": [
    "16/3"
   ]
  },
  {
   "cell_type": "code",
   "execution_count": 3,
   "id": "71138bcc-dc82-4d1d-9bf6-1ce29dc2d7ab",
   "metadata": {},
   "outputs": [
    {
     "data": {
      "text/plain": [
       "'hii'"
      ]
     },
     "execution_count": 3,
     "metadata": {},
     "output_type": "execute_result"
    }
   ],
   "source": [
    "def a(afk):\n",
    "    r=afk+5\n",
    "    return 'hii'\n",
    "    return r\n",
    "\n",
    "a(2)"
   ]
  },
  {
   "cell_type": "code",
   "execution_count": 4,
   "id": "b1580057-f45e-4500-84b6-7145d86dd86c",
   "metadata": {},
   "outputs": [
    {
     "name": "stdout",
     "output_type": "stream",
     "text": [
      "123456"
     ]
    }
   ],
   "source": [
    "even=[1,2,3,4,5,6]\n",
    "for i in even:\n",
    "    print(i,sep=\"  \",end=\"\")"
   ]
  },
  {
   "cell_type": "code",
   "execution_count": 5,
   "id": "ce9f7594-9751-4915-b58b-1ff1ed0a32d9",
   "metadata": {},
   "outputs": [
    {
     "data": {
      "text/plain": [
       "'plah'"
      ]
     },
     "execution_count": 5,
     "metadata": {},
     "output_type": "execute_result"
    }
   ],
   "source": [
    "\"halp\"[-1::-1]"
   ]
  },
  {
   "cell_type": "code",
   "execution_count": 6,
   "id": "dc444fee-3ae6-4bde-bd21-138c37be36bf",
   "metadata": {},
   "outputs": [
    {
     "name": "stdout",
     "output_type": "stream",
     "text": [
      "('a', 'a', 'a', 'b', 'b', 'b', 'b', 'b', 'c', 'c', 'c', 'c')\n"
     ]
    }
   ],
   "source": [
    "import collections as cl\n",
    "\n",
    "a='abbbbbaacccc'\n",
    "\n",
    "m=cl.Counter(a)\n",
    "print(tuple(m.elements()))"
   ]
  },
  {
   "cell_type": "code",
   "execution_count": 7,
   "id": "1cdc685d-0a8a-471b-b345-e2d3f97d39db",
   "metadata": {},
   "outputs": [
    {
     "name": "stdout",
     "output_type": "stream",
     "text": [
      "2025-03-24 01:35:51.990344\n",
      "2020-12-12 00:00:00\n",
      "2025\n"
     ]
    }
   ],
   "source": [
    "import datetime as dt\n",
    "\n",
    "x=dt.datetime.now()\n",
    "print(x)\n",
    "print(dt.datetime(2020,12,12))\n",
    "print(x.strftime('%Y'))\n"
   ]
  },
  {
   "cell_type": "code",
   "execution_count": 8,
   "id": "039a9489-1dad-468a-82e7-051743d18cb1",
   "metadata": {},
   "outputs": [
    {
     "name": "stdout",
     "output_type": "stream",
     "text": [
      "[[1 2 3]\n",
      " [4 5 4]]\n",
      "<class 'numpy.ndarray'>\n"
     ]
    },
    {
     "data": {
      "text/plain": [
       "2"
      ]
     },
     "execution_count": 8,
     "metadata": {},
     "output_type": "execute_result"
    }
   ],
   "source": [
    "import numpy as np\n",
    "\n",
    "a=np.array([[1,2,3],[4,5,4]])\n",
    "print(a)\n",
    "print(type(a))\n",
    "a.ndim  #get dimension"
   ]
  },
  {
   "cell_type": "code",
   "execution_count": 9,
   "id": "8d7439ef-bafb-4d87-8ebd-0ce720f34cec",
   "metadata": {},
   "outputs": [
    {
     "data": {
      "text/plain": [
       "dtype('int32')"
      ]
     },
     "execution_count": 9,
     "metadata": {},
     "output_type": "execute_result"
    }
   ],
   "source": [
    "a.dtype"
   ]
  },
  {
   "cell_type": "code",
   "execution_count": 10,
   "id": "8b951545-8669-4259-ac2b-bba25dac39b4",
   "metadata": {},
   "outputs": [
    {
     "data": {
      "text/plain": [
       "(2, 3)"
      ]
     },
     "execution_count": 10,
     "metadata": {},
     "output_type": "execute_result"
    }
   ],
   "source": [
    "a.shape"
   ]
  },
  {
   "cell_type": "code",
   "execution_count": 11,
   "id": "52c129d0-e11d-4628-ac80-340dd2ef2d7e",
   "metadata": {},
   "outputs": [
    {
     "data": {
      "text/plain": [
       "6"
      ]
     },
     "execution_count": 11,
     "metadata": {},
     "output_type": "execute_result"
    }
   ],
   "source": [
    "a.size"
   ]
  },
  {
   "cell_type": "code",
   "execution_count": 12,
   "id": "c8f8f0e4-2595-475c-9d48-a5ecd5ac08b5",
   "metadata": {},
   "outputs": [
    {
     "data": {
      "text/plain": [
       "4"
      ]
     },
     "execution_count": 12,
     "metadata": {},
     "output_type": "execute_result"
    }
   ],
   "source": [
    "a.itemsize"
   ]
  },
  {
   "cell_type": "code",
   "execution_count": 13,
   "id": "292bd693-f297-469d-aa1c-47fc371c94c2",
   "metadata": {},
   "outputs": [
    {
     "data": {
      "text/plain": [
       "24"
      ]
     },
     "execution_count": 13,
     "metadata": {},
     "output_type": "execute_result"
    }
   ],
   "source": [
    "a.nbytes"
   ]
  },
  {
   "cell_type": "code",
   "execution_count": 14,
   "id": "e78d3585-3751-4487-8f7e-0523c02e4384",
   "metadata": {},
   "outputs": [
    {
     "data": {
      "text/plain": [
       "2"
      ]
     },
     "execution_count": 14,
     "metadata": {},
     "output_type": "execute_result"
    }
   ],
   "source": [
    "a[0,1]"
   ]
  },
  {
   "cell_type": "code",
   "execution_count": 15,
   "id": "5603c5f4-68ea-4340-8411-45ec25921a06",
   "metadata": {},
   "outputs": [
    {
     "data": {
      "text/plain": [
       "2"
      ]
     },
     "execution_count": 15,
     "metadata": {},
     "output_type": "execute_result"
    }
   ],
   "source": [
    "a[0,-2]"
   ]
  },
  {
   "cell_type": "code",
   "execution_count": 16,
   "id": "1bd2036a-153c-4f41-9fa9-e81674230e50",
   "metadata": {},
   "outputs": [
    {
     "data": {
      "text/plain": [
       "array([[1, 2, 3]])"
      ]
     },
     "execution_count": 16,
     "metadata": {},
     "output_type": "execute_result"
    }
   ],
   "source": [
    "a[:1:]"
   ]
  },
  {
   "cell_type": "code",
   "execution_count": 17,
   "id": "86cf54ac-a24a-4439-8597-8bc40a907437",
   "metadata": {},
   "outputs": [
    {
     "data": {
      "text/plain": [
       "array([[4, 5, 4],\n",
       "       [1, 2, 3]])"
      ]
     },
     "execution_count": 17,
     "metadata": {},
     "output_type": "execute_result"
    }
   ],
   "source": [
    "a[::-1]"
   ]
  },
  {
   "cell_type": "code",
   "execution_count": 18,
   "id": "000d8213-38c1-485c-bcfb-3f1c74a82279",
   "metadata": {},
   "outputs": [
    {
     "data": {
      "text/plain": [
       "array([1, 2, 3])"
      ]
     },
     "execution_count": 18,
     "metadata": {},
     "output_type": "execute_result"
    }
   ],
   "source": [
    "a[0,:]"
   ]
  },
  {
   "cell_type": "code",
   "execution_count": 19,
   "id": "5f18d925-0468-4c6a-9ccb-ff2ac0954fcc",
   "metadata": {},
   "outputs": [
    {
     "data": {
      "text/plain": [
       "array([2, 5])"
      ]
     },
     "execution_count": 19,
     "metadata": {},
     "output_type": "execute_result"
    }
   ],
   "source": [
    "a[:,1]"
   ]
  },
  {
   "cell_type": "code",
   "execution_count": 20,
   "id": "8ca1d426-1b00-49ee-83d7-a9a53fc6289f",
   "metadata": {},
   "outputs": [
    {
     "name": "stdout",
     "output_type": "stream",
     "text": [
      "[[1 0 3]\n",
      " [4 0 4]]\n"
     ]
    }
   ],
   "source": [
    "a[:,1]=0\n",
    "print(a)"
   ]
  },
  {
   "cell_type": "code",
   "execution_count": 21,
   "id": "41abaaac-9fc5-4753-9ef3-7ec637cc6280",
   "metadata": {},
   "outputs": [
    {
     "name": "stdout",
     "output_type": "stream",
     "text": [
      "[[1 9 3]\n",
      " [4 9 4]]\n"
     ]
    }
   ],
   "source": [
    "a[:,1]=[9,9]\n",
    "print(a)"
   ]
  },
  {
   "cell_type": "code",
   "execution_count": 22,
   "id": "fab62663-f152-43a6-80f6-4ef2836e3041",
   "metadata": {},
   "outputs": [
    {
     "data": {
      "text/plain": [
       "array([[[0., 0., 0., 0., 0., 0.],\n",
       "        [0., 0., 0., 0., 0., 0.]]])"
      ]
     },
     "execution_count": 22,
     "metadata": {},
     "output_type": "execute_result"
    }
   ],
   "source": [
    "np.zeros((1,2,6))"
   ]
  },
  {
   "cell_type": "code",
   "execution_count": 23,
   "id": "b0b6eeef-3364-41bf-b996-2190d57e61d4",
   "metadata": {},
   "outputs": [
    {
     "data": {
      "text/plain": [
       "array([1, 1, 1, 1])"
      ]
     },
     "execution_count": 23,
     "metadata": {},
     "output_type": "execute_result"
    }
   ],
   "source": [
    "np.ones((4),dtype='int32')"
   ]
  },
  {
   "cell_type": "code",
   "execution_count": 24,
   "id": "68e10179-3647-4687-82d3-a6fd7f8dbf96",
   "metadata": {},
   "outputs": [
    {
     "data": {
      "text/plain": [
       "array([[1., 1., 1.],\n",
       "       [1., 1., 1.]])"
      ]
     },
     "execution_count": 24,
     "metadata": {},
     "output_type": "execute_result"
    }
   ],
   "source": [
    "np.ones((2,3))"
   ]
  },
  {
   "cell_type": "code",
   "execution_count": 25,
   "id": "553f65a8-8c6d-4d28-bd87-1a4e09b01d7b",
   "metadata": {},
   "outputs": [
    {
     "data": {
      "text/plain": [
       "array([[33., 33., 33.],\n",
       "       [33., 33., 33.]], dtype=float32)"
      ]
     },
     "execution_count": 25,
     "metadata": {},
     "output_type": "execute_result"
    }
   ],
   "source": [
    "np.full((2,3),33,dtype='float32')"
   ]
  },
  {
   "cell_type": "code",
   "execution_count": 26,
   "id": "116ef887-9c7b-46c9-ba98-99738923a0b5",
   "metadata": {},
   "outputs": [
    {
     "data": {
      "text/plain": [
       "array([[4, 4, 4],\n",
       "       [4, 4, 4]])"
      ]
     },
     "execution_count": 26,
     "metadata": {},
     "output_type": "execute_result"
    }
   ],
   "source": [
    "np.full_like(a,4)"
   ]
  },
  {
   "cell_type": "code",
   "execution_count": 27,
   "id": "9826b201-170d-49df-b54c-90e339c2f15e",
   "metadata": {},
   "outputs": [
    {
     "data": {
      "text/plain": [
       "array([[[0.046753  ],\n",
       "        [0.29186167],\n",
       "        [0.25801491]],\n",
       "\n",
       "       [[0.29731502],\n",
       "        [0.45964769],\n",
       "        [0.275118  ]]])"
      ]
     },
     "execution_count": 27,
     "metadata": {},
     "output_type": "execute_result"
    }
   ],
   "source": [
    "np.random.rand(2,3,1)"
   ]
  },
  {
   "cell_type": "code",
   "execution_count": 28,
   "id": "df96abab-97cf-4818-87e5-61adf90088a1",
   "metadata": {},
   "outputs": [
    {
     "data": {
      "text/plain": [
       "array([[2, 3, 3],\n",
       "       [4, 2, 4]])"
      ]
     },
     "execution_count": 28,
     "metadata": {},
     "output_type": "execute_result"
    }
   ],
   "source": [
    "np.random.randint(2,5,size=(2,3))"
   ]
  },
  {
   "cell_type": "code",
   "execution_count": 29,
   "id": "3524df26-a0cf-408e-bf50-9cb909b07c7a",
   "metadata": {},
   "outputs": [
    {
     "data": {
      "text/plain": [
       "array([[1., 0., 0., 0.],\n",
       "       [0., 1., 0., 0.],\n",
       "       [0., 0., 1., 0.],\n",
       "       [0., 0., 0., 1.]])"
      ]
     },
     "execution_count": 29,
     "metadata": {},
     "output_type": "execute_result"
    }
   ],
   "source": [
    "np.identity(4)"
   ]
  },
  {
   "cell_type": "code",
   "execution_count": 30,
   "id": "2ece32ce-433a-4d55-933c-55b8e3347a8a",
   "metadata": {},
   "outputs": [
    {
     "data": {
      "text/plain": [
       "array([1, 1, 1, 1, 2, 2, 2, 2, 3, 3, 3, 3])"
      ]
     },
     "execution_count": 30,
     "metadata": {},
     "output_type": "execute_result"
    }
   ],
   "source": [
    "arr=np.array([[1,2,3]])\n",
    "np.repeat(arr,4)\n",
    "#arr.shape"
   ]
  },
  {
   "cell_type": "code",
   "execution_count": 31,
   "id": "0e1c65bc-cfa8-40c2-8ee0-4a224832fe41",
   "metadata": {},
   "outputs": [
    {
     "data": {
      "text/plain": [
       "array([[1, 2, 3],\n",
       "       [1, 2, 3],\n",
       "       [1, 2, 3],\n",
       "       [1, 2, 3]])"
      ]
     },
     "execution_count": 31,
     "metadata": {},
     "output_type": "execute_result"
    }
   ],
   "source": [
    "np.repeat(arr,4,axis=0)"
   ]
  },
  {
   "cell_type": "code",
   "execution_count": 32,
   "id": "7aeec446-476d-4119-aa2e-1fe628980587",
   "metadata": {},
   "outputs": [],
   "source": [
    "a=np.ones((2,3))"
   ]
  },
  {
   "cell_type": "code",
   "execution_count": 33,
   "id": "cb8766ef-0a9c-47df-b505-5643ad41eaa6",
   "metadata": {},
   "outputs": [],
   "source": [
    "b=np.full((3,3),3)"
   ]
  },
  {
   "cell_type": "code",
   "execution_count": 34,
   "id": "e076072f-522c-4220-82bc-9f712fb65345",
   "metadata": {},
   "outputs": [
    {
     "data": {
      "text/plain": [
       "array([[9., 9., 9.],\n",
       "       [9., 9., 9.]])"
      ]
     },
     "execution_count": 34,
     "metadata": {},
     "output_type": "execute_result"
    }
   ],
   "source": [
    "np.matmul(a,b)"
   ]
  },
  {
   "cell_type": "code",
   "execution_count": 35,
   "id": "25b211e1-81b1-4afd-9dd0-9bb3cc1b9977",
   "metadata": {},
   "outputs": [],
   "source": [
    "c=np.identity(5)"
   ]
  },
  {
   "cell_type": "code",
   "execution_count": 36,
   "id": "c6694726-6c81-427f-83b9-12b6cd98468e",
   "metadata": {},
   "outputs": [
    {
     "data": {
      "text/plain": [
       "1.0"
      ]
     },
     "execution_count": 36,
     "metadata": {},
     "output_type": "execute_result"
    }
   ],
   "source": [
    "np.linalg.det(c)   #determinant"
   ]
  },
  {
   "cell_type": "code",
   "execution_count": 37,
   "id": "aa070ef3-e703-4e8a-8747-65be291c3aaa",
   "metadata": {},
   "outputs": [],
   "source": [
    "r=np.array([[2,4,5],[7,1,2]])"
   ]
  },
  {
   "cell_type": "code",
   "execution_count": 38,
   "id": "c52e61cb-d6cd-4f4a-be34-70b767bb7efa",
   "metadata": {},
   "outputs": [
    {
     "data": {
      "text/plain": [
       "1"
      ]
     },
     "execution_count": 38,
     "metadata": {},
     "output_type": "execute_result"
    }
   ],
   "source": [
    "np.min(r)"
   ]
  },
  {
   "cell_type": "code",
   "execution_count": 39,
   "id": "3c294436-0e5c-4d07-bad4-a15bd212e228",
   "metadata": {},
   "outputs": [
    {
     "data": {
      "text/plain": [
       "7"
      ]
     },
     "execution_count": 39,
     "metadata": {},
     "output_type": "execute_result"
    }
   ],
   "source": [
    "np.max(r)"
   ]
  },
  {
   "cell_type": "code",
   "execution_count": 40,
   "id": "1f426037-de6f-454d-b584-3f9113b1f2ab",
   "metadata": {},
   "outputs": [
    {
     "data": {
      "text/plain": [
       "array([2, 1])"
      ]
     },
     "execution_count": 40,
     "metadata": {},
     "output_type": "execute_result"
    }
   ],
   "source": [
    "np.min(r,axis=1)"
   ]
  },
  {
   "cell_type": "code",
   "execution_count": 41,
   "id": "773cbcfd-5207-4c1c-91b0-0cd8d11c64a5",
   "metadata": {},
   "outputs": [
    {
     "data": {
      "text/plain": [
       "array([2, 1, 2])"
      ]
     },
     "execution_count": 41,
     "metadata": {},
     "output_type": "execute_result"
    }
   ],
   "source": [
    "np.min(r,axis=0)"
   ]
  },
  {
   "cell_type": "code",
   "execution_count": 42,
   "id": "bfbd48d7-b968-4f32-9db0-10ef6451961e",
   "metadata": {},
   "outputs": [
    {
     "data": {
      "text/plain": [
       "21"
      ]
     },
     "execution_count": 42,
     "metadata": {},
     "output_type": "execute_result"
    }
   ],
   "source": [
    "np.sum(r)"
   ]
  },
  {
   "cell_type": "code",
   "execution_count": 43,
   "id": "2ff354a8-8a1a-4ec4-ab66-a456965333b1",
   "metadata": {},
   "outputs": [
    {
     "data": {
      "text/plain": [
       "array([9, 5, 7])"
      ]
     },
     "execution_count": 43,
     "metadata": {},
     "output_type": "execute_result"
    }
   ],
   "source": [
    "np.sum(r,axis=0)"
   ]
  },
  {
   "cell_type": "code",
   "execution_count": 44,
   "id": "0703d1a9-ab95-47a0-a167-24cca9d5c0de",
   "metadata": {},
   "outputs": [
    {
     "data": {
      "text/plain": [
       "array([11, 10])"
      ]
     },
     "execution_count": 44,
     "metadata": {},
     "output_type": "execute_result"
    }
   ],
   "source": [
    "np.sum(r,axis=1)"
   ]
  },
  {
   "cell_type": "code",
   "execution_count": 45,
   "id": "6039b5ff-1206-4522-90b3-bf766b6fe1e4",
   "metadata": {},
   "outputs": [
    {
     "data": {
      "text/plain": [
       "array([[[2, 4]],\n",
       "\n",
       "       [[5, 7]],\n",
       "\n",
       "       [[1, 2]]])"
      ]
     },
     "execution_count": 45,
     "metadata": {},
     "output_type": "execute_result"
    }
   ],
   "source": [
    "r.reshape(3,1,2)"
   ]
  },
  {
   "cell_type": "code",
   "execution_count": 46,
   "id": "33c7280d-6c90-47e4-a256-8626ae2bf4cc",
   "metadata": {},
   "outputs": [
    {
     "data": {
      "text/plain": [
       "array([[2, 4, 6],\n",
       "       [6, 8, 1],\n",
       "       [6, 8, 1]])"
      ]
     },
     "execution_count": 46,
     "metadata": {},
     "output_type": "execute_result"
    }
   ],
   "source": [
    "v1=np.array([2,4,6])\n",
    "v2=np.array([6,8,1])\n",
    "np.vstack([v1,v2,v2])"
   ]
  },
  {
   "cell_type": "code",
   "execution_count": 47,
   "id": "904b79cd-0782-4fdb-8766-08ab174f498b",
   "metadata": {},
   "outputs": [
    {
     "data": {
      "text/plain": [
       "array([6, 6, 8, 6])"
      ]
     },
     "execution_count": 47,
     "metadata": {},
     "output_type": "execute_result"
    }
   ],
   "source": [
    "q=np.hstack([v1,v2,v1])\n",
    "q[[2,3,7]]\n",
    "q>4\n",
    "q[q>4]"
   ]
  },
  {
   "cell_type": "code",
   "execution_count": 48,
   "id": "688df1af-6904-4692-a39f-c7c0b0c588c1",
   "metadata": {},
   "outputs": [
    {
     "data": {
      "text/plain": [
       "array([[1., 1., 3., 3., 3.],\n",
       "       [1., 1., 3., 3., 3.]])"
      ]
     },
     "execution_count": 48,
     "metadata": {},
     "output_type": "execute_result"
    }
   ],
   "source": [
    "v3=np.full((2,3),3)\n",
    "v4=np.ones((2,2))\n",
    "np.hstack((v4,v3))"
   ]
  },
  {
   "cell_type": "code",
   "execution_count": 49,
   "id": "ccff787a-1305-4f9f-a1e5-cfb9c3052400",
   "metadata": {},
   "outputs": [
    {
     "data": {
      "text/plain": [
       "array([[0, 1],\n",
       "       [2, 3],\n",
       "       [4, 5],\n",
       "       [6, 7],\n",
       "       [8, 9]])"
      ]
     },
     "execution_count": 49,
     "metadata": {},
     "output_type": "execute_result"
    }
   ],
   "source": [
    "np.arange(0,10).reshape(5,2)"
   ]
  },
  {
   "cell_type": "code",
   "execution_count": 50,
   "id": "2e5f4481-3a05-46bc-8355-8c0b97554095",
   "metadata": {},
   "outputs": [
    {
     "data": {
      "text/plain": [
       "array([[1, 2, 3]])"
      ]
     },
     "execution_count": 50,
     "metadata": {},
     "output_type": "execute_result"
    }
   ],
   "source": [
    "arr=np.array([1,2,3])\n",
    "arr.reshape(1,3)"
   ]
  },
  {
   "cell_type": "code",
   "execution_count": 51,
   "id": "330858ef-d473-42ba-989e-5eb86eba14cc",
   "metadata": {},
   "outputs": [
    {
     "data": {
      "text/plain": [
       "array([[1],\n",
       "       [2],\n",
       "       [3]])"
      ]
     },
     "execution_count": 51,
     "metadata": {},
     "output_type": "execute_result"
    }
   ],
   "source": [
    "arr[:,np.newaxis]"
   ]
  },
  {
   "cell_type": "code",
   "execution_count": 52,
   "id": "e0d32518-5d4c-4b1e-a0fd-0a3925613be3",
   "metadata": {},
   "outputs": [
    {
     "data": {
      "text/plain": [
       "array([[1, 2, 3]])"
      ]
     },
     "execution_count": 52,
     "metadata": {},
     "output_type": "execute_result"
    }
   ],
   "source": [
    "arr[np.newaxis,:]"
   ]
  },
  {
   "cell_type": "code",
   "execution_count": 53,
   "id": "4351f178-06f6-4ac5-98de-65d1ecf601a0",
   "metadata": {},
   "outputs": [
    {
     "data": {
      "text/plain": [
       "array([1, 2, 3, 4, 2, 3])"
      ]
     },
     "execution_count": 53,
     "metadata": {},
     "output_type": "execute_result"
    }
   ],
   "source": [
    "x=[1,2,3]\n",
    "y=[4,2,3]\n",
    "np.concatenate([x,y])"
   ]
  },
  {
   "cell_type": "code",
   "execution_count": 54,
   "id": "e45a919d-0077-4904-a49c-96b6836cee89",
   "metadata": {},
   "outputs": [
    {
     "data": {
      "text/plain": [
       "array([[1, 2, 3],\n",
       "       [4, 2, 3]])"
      ]
     },
     "execution_count": 54,
     "metadata": {},
     "output_type": "execute_result"
    }
   ],
   "source": [
    "st=np.concatenate([[x,y]])\n",
    "st"
   ]
  },
  {
   "cell_type": "code",
   "execution_count": 55,
   "id": "bf292a04-4270-4aca-988e-ae9b662ea467",
   "metadata": {},
   "outputs": [
    {
     "data": {
      "text/plain": [
       "array([[1, 2, 3, 1, 2, 3],\n",
       "       [4, 2, 3, 4, 2, 3]])"
      ]
     },
     "execution_count": 55,
     "metadata": {},
     "output_type": "execute_result"
    }
   ],
   "source": [
    "np.concatenate([st,st],axis=1)"
   ]
  },
  {
   "cell_type": "code",
   "execution_count": 56,
   "id": "bd90f101-f757-44ad-995f-ec9f9e580755",
   "metadata": {},
   "outputs": [
    {
     "data": {
      "text/plain": [
       "1.2246467991473532e-16"
      ]
     },
     "execution_count": 56,
     "metadata": {},
     "output_type": "execute_result"
    }
   ],
   "source": [
    "np.sin(np.pi)"
   ]
  },
  {
   "cell_type": "code",
   "execution_count": 57,
   "id": "1179e06f-2524-4600-a182-7ca99182dd17",
   "metadata": {},
   "outputs": [
    {
     "data": {
      "text/plain": [
       "array([ 0. , 22.5, 45. , 67.5, 90. ])"
      ]
     },
     "execution_count": 57,
     "metadata": {},
     "output_type": "execute_result"
    }
   ],
   "source": [
    "np.linspace(0,90,5)"
   ]
  },
  {
   "cell_type": "code",
   "execution_count": 58,
   "id": "f2f218de-ebb8-4a27-8186-749e6c60450e",
   "metadata": {},
   "outputs": [
    {
     "data": {
      "text/plain": [
       "array([2., 4., 8.])"
      ]
     },
     "execution_count": 58,
     "metadata": {},
     "output_type": "execute_result"
    }
   ],
   "source": [
    "np.exp2([1,2,3])"
   ]
  },
  {
   "cell_type": "code",
   "execution_count": 59,
   "id": "7271f1e5-ec82-4f55-858e-211e397d6b1e",
   "metadata": {},
   "outputs": [
    {
     "data": {
      "text/plain": [
       "9"
      ]
     },
     "execution_count": 59,
     "metadata": {},
     "output_type": "execute_result"
    }
   ],
   "source": [
    "np.power(3,2)"
   ]
  },
  {
   "cell_type": "code",
   "execution_count": 60,
   "id": "021abef6-7eba-42f1-b3a2-7d0382413885",
   "metadata": {},
   "outputs": [
    {
     "data": {
      "text/plain": [
       "1.0"
      ]
     },
     "execution_count": 60,
     "metadata": {},
     "output_type": "execute_result"
    }
   ],
   "source": [
    "np.log(np.exp(1))"
   ]
  },
  {
   "cell_type": "code",
   "execution_count": 61,
   "id": "46dfd941-eafa-417f-a2cd-a012be9b0e69",
   "metadata": {},
   "outputs": [
    {
     "data": {
      "text/plain": [
       "1.0"
      ]
     },
     "execution_count": 61,
     "metadata": {},
     "output_type": "execute_result"
    }
   ],
   "source": [
    "np.log10(10)"
   ]
  },
  {
   "cell_type": "code",
   "execution_count": 62,
   "id": "6a6e4666-5db5-4f49-b2fd-50cea49505ba",
   "metadata": {},
   "outputs": [
    {
     "data": {
      "text/plain": [
       "array([0.       , 1.       , 1.5849625])"
      ]
     },
     "execution_count": 62,
     "metadata": {},
     "output_type": "execute_result"
    }
   ],
   "source": [
    "x=[1,2,3]\n",
    "np.log2(x)"
   ]
  },
  {
   "cell_type": "code",
   "execution_count": 63,
   "id": "a5ec2554-fe53-4166-b0c3-c7f2dfe33210",
   "metadata": {},
   "outputs": [],
   "source": [
    "x=np.empty([2,3])\n",
    "y=np.arange(5)"
   ]
  },
  {
   "cell_type": "code",
   "execution_count": 64,
   "id": "35b11b99-04ae-4735-b749-260cf488c8a2",
   "metadata": {},
   "outputs": [
    {
     "data": {
      "text/plain": [
       "15"
      ]
     },
     "execution_count": 64,
     "metadata": {},
     "output_type": "execute_result"
    }
   ],
   "source": [
    "x=np.arange(1,6)\n",
    "np.add.reduce(x)"
   ]
  },
  {
   "cell_type": "code",
   "execution_count": 65,
   "id": "575d430f-6a99-45dc-ab1c-4d359a6a2dee",
   "metadata": {},
   "outputs": [
    {
     "data": {
      "text/plain": [
       "120"
      ]
     },
     "execution_count": 65,
     "metadata": {},
     "output_type": "execute_result"
    }
   ],
   "source": [
    "np.multiply.reduce(x)\n"
   ]
  },
  {
   "cell_type": "code",
   "execution_count": 66,
   "id": "11e34eb1-6f11-4e73-a522-ec458709dc5c",
   "metadata": {},
   "outputs": [
    {
     "data": {
      "text/plain": [
       "array([ 1,  3,  6, 10, 15])"
      ]
     },
     "execution_count": 66,
     "metadata": {},
     "output_type": "execute_result"
    }
   ],
   "source": [
    "np.add.accumulate(x)"
   ]
  },
  {
   "cell_type": "code",
   "execution_count": 67,
   "id": "b5623b04-c354-4e0b-b5e8-c4fb62e4df4c",
   "metadata": {},
   "outputs": [
    {
     "data": {
      "text/plain": [
       "array([  1,   2,   6,  24, 120])"
      ]
     },
     "execution_count": 67,
     "metadata": {},
     "output_type": "execute_result"
    }
   ],
   "source": [
    "np.multiply.accumulate(x)"
   ]
  },
  {
   "cell_type": "code",
   "execution_count": 68,
   "id": "49203d54-7b39-4f56-8580-1eb815d39d70",
   "metadata": {},
   "outputs": [
    {
     "data": {
      "text/plain": [
       "array([[ 1,  2,  3,  4,  5],\n",
       "       [ 2,  4,  6,  8, 10],\n",
       "       [ 3,  6,  9, 12, 15],\n",
       "       [ 4,  8, 12, 16, 20],\n",
       "       [ 5, 10, 15, 20, 25]])"
      ]
     },
     "execution_count": 68,
     "metadata": {},
     "output_type": "execute_result"
    }
   ],
   "source": [
    "np.multiply.outer(x,x)"
   ]
  },
  {
   "cell_type": "code",
   "execution_count": 69,
   "id": "1af87f61-ae29-4902-9bd9-576db0849695",
   "metadata": {},
   "outputs": [
    {
     "data": {
      "text/plain": [
       "array([[ 2,  3,  4,  5,  6],\n",
       "       [ 3,  4,  5,  6,  7],\n",
       "       [ 4,  5,  6,  7,  8],\n",
       "       [ 5,  6,  7,  8,  9],\n",
       "       [ 6,  7,  8,  9, 10]])"
      ]
     },
     "execution_count": 69,
     "metadata": {},
     "output_type": "execute_result"
    }
   ],
   "source": [
    "np.add.outer(x,x)"
   ]
  },
  {
   "cell_type": "code",
   "execution_count": 70,
   "id": "35c0ac9b-0bc3-41be-8977-e9ebce3a4578",
   "metadata": {},
   "outputs": [
    {
     "data": {
      "text/plain": [
       "array([11, 14, 14, 11])"
      ]
     },
     "execution_count": 70,
     "metadata": {},
     "output_type": "execute_result"
    }
   ],
   "source": [
    "np.random.randint(10,15,size=4)"
   ]
  },
  {
   "cell_type": "code",
   "execution_count": 71,
   "id": "cb983020-aa40-4de9-9147-07b63a489ae7",
   "metadata": {},
   "outputs": [
    {
     "data": {
      "text/plain": [
       "array([0.08633861, 0.01050675, 0.29949523])"
      ]
     },
     "execution_count": 71,
     "metadata": {},
     "output_type": "execute_result"
    }
   ],
   "source": [
    "x=np.random.rand(3)\n",
    "x"
   ]
  },
  {
   "cell_type": "code",
   "execution_count": 72,
   "id": "3f390c65-4726-4d93-9325-9e0f4bb482b8",
   "metadata": {},
   "outputs": [
    {
     "name": "stdout",
     "output_type": "stream",
     "text": [
      "1.26 μs ± 78.2 ns per loop (mean ± std. dev. of 7 runs, 1,000,000 loops each)\n"
     ]
    }
   ],
   "source": [
    "%timeit x.sum()"
   ]
  },
  {
   "cell_type": "code",
   "execution_count": 73,
   "id": "a3dd2a4d-744c-4424-b3cb-d09ff71fa398",
   "metadata": {},
   "outputs": [
    {
     "name": "stdout",
     "output_type": "stream",
     "text": [
      "2.23 μs ± 107 ns per loop (mean ± std. dev. of 7 runs, 100,000 loops each)\n"
     ]
    }
   ],
   "source": [
    "%timeit np.sum(x)"
   ]
  },
  {
   "cell_type": "code",
   "execution_count": 74,
   "id": "7d302dd3-49d0-475b-b690-96eaad75593a",
   "metadata": {},
   "outputs": [
    {
     "data": {
      "text/plain": [
       "0.010506750849778701"
      ]
     },
     "execution_count": 74,
     "metadata": {},
     "output_type": "execute_result"
    }
   ],
   "source": [
    "x.min()"
   ]
  },
  {
   "cell_type": "code",
   "execution_count": 75,
   "id": "403c7bf1-ce58-4072-be17-a3b7e3477210",
   "metadata": {},
   "outputs": [
    {
     "data": {
      "text/plain": [
       "0.010506750849778701"
      ]
     },
     "execution_count": 75,
     "metadata": {},
     "output_type": "execute_result"
    }
   ],
   "source": [
    "np.min(x)"
   ]
  },
  {
   "cell_type": "code",
   "execution_count": 76,
   "id": "89ac28d9-013f-49c9-92d7-3e9ae5fc144a",
   "metadata": {},
   "outputs": [
    {
     "data": {
      "text/plain": [
       "array([[0.3443995 , 0.73887528, 0.90282736, 0.60252406],\n",
       "       [0.11134418, 0.57895045, 0.25246887, 0.37011499]])"
      ]
     },
     "execution_count": 76,
     "metadata": {},
     "output_type": "execute_result"
    }
   ],
   "source": [
    "import numpy as np\n",
    "y=np.random.rand(2,4)\n",
    "y"
   ]
  },
  {
   "cell_type": "code",
   "execution_count": 77,
   "id": "50e0d7b7-7f83-43c4-892f-2497077b05ea",
   "metadata": {},
   "outputs": [
    {
     "data": {
      "text/plain": [
       "array([0.11134418, 0.57895045, 0.25246887, 0.37011499])"
      ]
     },
     "execution_count": 77,
     "metadata": {},
     "output_type": "execute_result"
    }
   ],
   "source": [
    "np.min(y,axis=0)"
   ]
  },
  {
   "cell_type": "code",
   "execution_count": 78,
   "id": "f9f81632-b126-4eef-8403-2f202e7f0b67",
   "metadata": {},
   "outputs": [
    {
     "data": {
      "text/plain": [
       "0.48768808776163086"
      ]
     },
     "execution_count": 78,
     "metadata": {},
     "output_type": "execute_result"
    }
   ],
   "source": [
    "y.mean()"
   ]
  },
  {
   "cell_type": "code",
   "execution_count": 79,
   "id": "7650fbcb-992f-411e-991e-d703c42ec3d7",
   "metadata": {},
   "outputs": [
    {
     "data": {
      "text/plain": [
       "0.24704999649284345"
      ]
     },
     "execution_count": 79,
     "metadata": {},
     "output_type": "execute_result"
    }
   ],
   "source": [
    "y.std()"
   ]
  },
  {
   "cell_type": "code",
   "execution_count": 80,
   "id": "11228385-f739-4296-8676-7d384f866e78",
   "metadata": {},
   "outputs": [
    {
     "data": {
      "text/plain": [
       "0.47453272418599884"
      ]
     },
     "execution_count": 80,
     "metadata": {},
     "output_type": "execute_result"
    }
   ],
   "source": [
    "np.percentile(y,50)"
   ]
  },
  {
   "cell_type": "code",
   "execution_count": 81,
   "id": "9e93660e-56fa-4132-a9de-e94c4921f965",
   "metadata": {},
   "outputs": [
    {
     "data": {
      "text/plain": [
       "0.47453272418599884"
      ]
     },
     "execution_count": 81,
     "metadata": {},
     "output_type": "execute_result"
    }
   ],
   "source": [
    "np.median(y)"
   ]
  },
  {
   "cell_type": "code",
   "execution_count": 82,
   "id": "ab56768a-4ddf-4f83-878f-3057cae1b382",
   "metadata": {},
   "outputs": [
    {
     "data": {
      "text/plain": [
       "array([[1, 1, 1],\n",
       "       [1, 1, 1],\n",
       "       [1, 1, 1]])"
      ]
     },
     "execution_count": 82,
     "metadata": {},
     "output_type": "execute_result"
    }
   ],
   "source": [
    "np.ones((3,3),dtype='int')"
   ]
  },
  {
   "cell_type": "code",
   "execution_count": 83,
   "id": "8331a876-8ed3-40f1-bd22-c3ee843790fa",
   "metadata": {},
   "outputs": [],
   "source": [
    "nn=np.ones((3,3),dtype='int') + np.arange(3)[:,np.newaxis] "
   ]
  },
  {
   "cell_type": "code",
   "execution_count": 84,
   "id": "13340b6f-7ddd-4852-9445-0c95e233e465",
   "metadata": {},
   "outputs": [],
   "source": [
    "a=nn.mean(0)    #axis=0"
   ]
  },
  {
   "cell_type": "code",
   "execution_count": 85,
   "id": "ad028f71-1c6a-4d8a-9b65-b6dce6097879",
   "metadata": {},
   "outputs": [
    {
     "data": {
      "text/plain": [
       "array([[-1., -1., -1.],\n",
       "       [ 0.,  0.,  0.],\n",
       "       [ 1.,  1.,  1.]])"
      ]
     },
     "execution_count": 85,
     "metadata": {},
     "output_type": "execute_result"
    }
   ],
   "source": [
    "nn-a #centering"
   ]
  },
  {
   "cell_type": "code",
   "execution_count": 86,
   "id": "bb1325a5-5377-4233-919e-5d3fb88afed8",
   "metadata": {},
   "outputs": [],
   "source": [
    "x=np.linspace(0,13,50)\n",
    "y=np.linspace(0,9,20)[:,np.newaxis]\n"
   ]
  },
  {
   "cell_type": "code",
   "execution_count": 87,
   "id": "8520866c-a134-417e-ab07-a55b44aa159d",
   "metadata": {},
   "outputs": [
    {
     "data": {
      "text/plain": [
       "array([[ 2.00000000e+00,  1.96501231e+00,  1.86264017e+00,\n",
       "         1.71227857e+00,  1.65875943e+00,  1.91771935e+00,\n",
       "         1.97608753e+00,  1.30006006e+00,  5.99914981e-01,\n",
       "         2.78166251e-01,  1.17030552e-01,  2.48114859e-02,\n",
       "         8.85266882e-04,  4.68723672e-02,  1.59207864e-01,\n",
       "         3.09904940e-01,  3.20695801e-01,  3.39316676e-02,\n",
       "         8.86614960e-02,  8.32921543e-01,  1.47231494e+00,\n",
       "         1.75327741e+00,  1.90196716e+00,  1.98363815e+00,\n",
       "         1.99646050e+00,  1.93955597e+00,  1.81768565e+00,\n",
       "         1.67098700e+00,  1.70981331e+00,  2.00533859e+00,\n",
       "         1.82545614e+00,  1.03903228e+00,  4.65385853e-01,\n",
       "         2.18008328e-01,  8.06548864e-02,  9.65378018e-03,\n",
       "         7.95800034e-03,  7.56771563e-02,  2.06442244e-01,\n",
       "         3.43623208e-01,  2.50479576e-01, -3.09930041e-02,\n",
       "         2.78706444e-01,  1.08096785e+00,  1.58831998e+00,\n",
       "         1.80845523e+00,  1.93508663e+00,  1.99530085e+00,\n",
       "         1.98586706e+00,  1.90745950e+00],\n",
       "       [ 2.57801532e+00,  2.54302763e+00,  2.44065549e+00,\n",
       "         2.29029389e+00,  2.23677474e+00,  2.49573467e+00,\n",
       "         2.55410284e+00,  1.87807538e+00,  1.17793030e+00,\n",
       "         8.56181569e-01,  6.95045870e-01,  6.02826804e-01,\n",
       "         5.78900585e-01,  6.24887685e-01,  7.37223182e-01,\n",
       "         8.87920258e-01,  8.98711119e-01,  6.11946986e-01,\n",
       "         6.66676814e-01,  1.41093686e+00,  2.05033026e+00,\n",
       "         2.33129272e+00,  2.47998248e+00,  2.56165347e+00,\n",
       "         2.57447582e+00,  2.51757129e+00,  2.39570097e+00,\n",
       "         2.24900231e+00,  2.28782863e+00,  2.58335391e+00,\n",
       "         2.40347146e+00,  1.61704760e+00,  1.04340117e+00,\n",
       "         7.96023646e-01,  6.58670204e-01,  5.87669098e-01,\n",
       "         5.85973318e-01,  6.53692474e-01,  7.84457562e-01,\n",
       "         9.21638526e-01,  8.28494895e-01,  5.47022314e-01,\n",
       "         8.56721762e-01,  1.65898317e+00,  2.16633530e+00,\n",
       "         2.38647055e+00,  2.51310195e+00,  2.57331617e+00,\n",
       "         2.56388237e+00,  2.48547482e+00],\n",
       "       [ 3.25214241e+00,  3.21715472e+00,  3.11478258e+00,\n",
       "         2.96442098e+00,  2.91090183e+00,  3.16986176e+00,\n",
       "         3.22822994e+00,  2.55220247e+00,  1.85205739e+00,\n",
       "         1.53030866e+00,  1.36917296e+00,  1.27695390e+00,\n",
       "         1.25302768e+00,  1.29901478e+00,  1.41135027e+00,\n",
       "         1.56204735e+00,  1.57283821e+00,  1.28607408e+00,\n",
       "         1.34080391e+00,  2.08506395e+00,  2.72445735e+00,\n",
       "         3.00541982e+00,  3.15410957e+00,  3.23578056e+00,\n",
       "         3.24860291e+00,  3.19169838e+00,  3.06982806e+00,\n",
       "         2.92312940e+00,  2.96195572e+00,  3.25748100e+00,\n",
       "         3.07759855e+00,  2.29117469e+00,  1.71752826e+00,\n",
       "         1.47015074e+00,  1.33279730e+00,  1.26179619e+00,\n",
       "         1.26010041e+00,  1.32781957e+00,  1.45858465e+00,\n",
       "         1.59576562e+00,  1.50262199e+00,  1.22114941e+00,\n",
       "         1.53084885e+00,  2.33311026e+00,  2.84046239e+00,\n",
       "         3.06059764e+00,  3.18722904e+00,  3.24744326e+00,\n",
       "         3.23800946e+00,  3.15960191e+00],\n",
       "       [ 3.68803205e+00,  3.65304436e+00,  3.55067222e+00,\n",
       "         3.40031062e+00,  3.34679148e+00,  3.60575140e+00,\n",
       "         3.66411958e+00,  2.98809212e+00,  2.28794703e+00,\n",
       "         1.96619830e+00,  1.80506260e+00,  1.71284354e+00,\n",
       "         1.68891732e+00,  1.73490442e+00,  1.84723992e+00,\n",
       "         1.99793699e+00,  2.00872785e+00,  1.72196372e+00,\n",
       "         1.77669355e+00,  2.52095360e+00,  3.16034699e+00,\n",
       "         3.44130946e+00,  3.58999922e+00,  3.67167020e+00,\n",
       "         3.68449255e+00,  3.62758803e+00,  3.50571770e+00,\n",
       "         3.35901905e+00,  3.39784536e+00,  3.69337064e+00,\n",
       "         3.51348820e+00,  2.72706433e+00,  2.15341791e+00,\n",
       "         1.90604038e+00,  1.76868694e+00,  1.69768583e+00,\n",
       "         1.69599005e+00,  1.76370921e+00,  1.89447430e+00,\n",
       "         2.03165526e+00,  1.93851163e+00,  1.65703905e+00,\n",
       "         1.96673850e+00,  2.76899990e+00,  3.27635204e+00,\n",
       "         3.49648728e+00,  3.62311868e+00,  3.68333290e+00,\n",
       "         3.67389911e+00,  3.59549155e+00],\n",
       "       [ 3.58051372e+00,  3.54552603e+00,  3.44315390e+00,\n",
       "         3.29279229e+00,  3.23927315e+00,  3.49823307e+00,\n",
       "         3.55660125e+00,  2.88057379e+00,  2.18042871e+00,\n",
       "         1.85867998e+00,  1.69754428e+00,  1.60532521e+00,\n",
       "         1.58139899e+00,  1.62738609e+00,  1.73972159e+00,\n",
       "         1.89041866e+00,  1.90120953e+00,  1.61444539e+00,\n",
       "         1.66917522e+00,  2.41343527e+00,  3.05282866e+00,\n",
       "         3.33379113e+00,  3.48248089e+00,  3.56415188e+00,\n",
       "         3.57697422e+00,  3.52006970e+00,  3.39819937e+00,\n",
       "         3.25150072e+00,  3.29032704e+00,  3.58585231e+00,\n",
       "         3.40596987e+00,  2.61954601e+00,  2.04589958e+00,\n",
       "         1.79852205e+00,  1.66116861e+00,  1.59016750e+00,\n",
       "         1.58847173e+00,  1.65619088e+00,  1.78695597e+00,\n",
       "         1.92413693e+00,  1.83099330e+00,  1.54952072e+00,\n",
       "         1.85922017e+00,  2.66148157e+00,  3.16883371e+00,\n",
       "         3.38896895e+00,  3.51560036e+00,  3.57581457e+00,\n",
       "         3.56638078e+00,  3.48797323e+00],\n",
       "       [ 3.01055069e+00,  2.97556300e+00,  2.87319086e+00,\n",
       "         2.72282926e+00,  2.66931012e+00,  2.92827004e+00,\n",
       "         2.98663822e+00,  2.31061075e+00,  1.61046567e+00,\n",
       "         1.28871694e+00,  1.12758124e+00,  1.03536218e+00,\n",
       "         1.01143596e+00,  1.05742306e+00,  1.16975855e+00,\n",
       "         1.32045563e+00,  1.33124649e+00,  1.04448236e+00,\n",
       "         1.09921219e+00,  1.84347223e+00,  2.48286563e+00,\n",
       "         2.76382810e+00,  2.91251785e+00,  2.99418884e+00,\n",
       "         3.00701119e+00,  2.95010666e+00,  2.82823634e+00,\n",
       "         2.68153769e+00,  2.72036400e+00,  3.01588928e+00,\n",
       "         2.83600683e+00,  2.04958297e+00,  1.47593654e+00,\n",
       "         1.22855902e+00,  1.09120558e+00,  1.02020447e+00,\n",
       "         1.01850869e+00,  1.08622785e+00,  1.21699293e+00,\n",
       "         1.35417390e+00,  1.26103027e+00,  9.79557686e-01,\n",
       "         1.28925713e+00,  2.09151854e+00,  2.59887067e+00,\n",
       "         2.81900592e+00,  2.94563732e+00,  3.00585154e+00,\n",
       "         2.99641775e+00,  2.91801019e+00],\n",
       "       [ 2.34316726e+00,  2.30817957e+00,  2.20580743e+00,\n",
       "         2.05544583e+00,  2.00192669e+00,  2.26088661e+00,\n",
       "         2.31925479e+00,  1.64322733e+00,  9.43082243e-01,\n",
       "         6.21333513e-01,  4.60197813e-01,  3.67978748e-01,\n",
       "         3.44052529e-01,  3.90039629e-01,  5.02375126e-01,\n",
       "         6.53072202e-01,  6.63863063e-01,  3.77098929e-01,\n",
       "         4.31828758e-01,  1.17608881e+00,  1.81548220e+00,\n",
       "         2.09644467e+00,  2.24513443e+00,  2.32680541e+00,\n",
       "         2.33962776e+00,  2.28272324e+00,  2.16085291e+00,\n",
       "         2.01415426e+00,  2.05298057e+00,  2.34850585e+00,\n",
       "         2.16862340e+00,  1.38219954e+00,  8.08553114e-01,\n",
       "         5.61175590e-01,  4.23822148e-01,  3.52821042e-01,\n",
       "         3.51125262e-01,  4.18844418e-01,  5.49609506e-01,\n",
       "         6.86790470e-01,  5.93646838e-01,  3.12174258e-01,\n",
       "         6.21873705e-01,  1.42413511e+00,  1.93148725e+00,\n",
       "         2.15162249e+00,  2.27825389e+00,  2.33846811e+00,\n",
       "         2.32903432e+00,  2.25062676e+00],\n",
       "       [ 1.84087087e+00,  1.80588318e+00,  1.70351104e+00,\n",
       "         1.55314944e+00,  1.49963030e+00,  1.75859022e+00,\n",
       "         1.81695840e+00,  1.14093094e+00,  4.40785856e-01,\n",
       "         1.19037126e-01, -4.20985740e-02, -1.34317640e-01,\n",
       "        -1.58243859e-01, -1.12256758e-01,  7.87388491e-05,\n",
       "         1.50775814e-01,  1.61566675e-01, -1.25197458e-01,\n",
       "        -7.04676296e-02,  6.73792418e-01,  1.31318581e+00,\n",
       "         1.59414828e+00,  1.74283804e+00,  1.82450902e+00,\n",
       "         1.83733137e+00,  1.78042685e+00,  1.65855652e+00,\n",
       "         1.51185787e+00,  1.55068419e+00,  1.84620946e+00,\n",
       "         1.66632702e+00,  8.79903156e-01,  3.06256727e-01,\n",
       "         5.88792027e-02, -7.84742391e-02, -1.49475345e-01,\n",
       "        -1.51171125e-01, -8.34519693e-02,  4.73131184e-02,\n",
       "         1.84494083e-01,  9.13504509e-02, -1.90122130e-01,\n",
       "         1.19577318e-01,  9.21838724e-01,  1.42919086e+00,\n",
       "         1.64932610e+00,  1.77595751e+00,  1.83617172e+00,\n",
       "         1.82673793e+00,  1.74833038e+00],\n",
       "       [ 1.54689515e+00,  1.51190746e+00,  1.40953532e+00,\n",
       "         1.25917372e+00,  1.20565458e+00,  1.46461450e+00,\n",
       "         1.52298268e+00,  8.46955217e-01,  1.46810134e-01,\n",
       "        -1.74938596e-01, -3.36074295e-01, -4.28293361e-01,\n",
       "        -4.52219580e-01, -4.06232480e-01, -2.93896982e-01,\n",
       "        -1.43199907e-01, -1.32409046e-01, -4.19173179e-01,\n",
       "        -3.64443351e-01,  3.79816696e-01,  1.01921009e+00,\n",
       "         1.30017256e+00,  1.44886232e+00,  1.53053330e+00,\n",
       "         1.54335565e+00,  1.48645113e+00,  1.36458080e+00,\n",
       "         1.21788215e+00,  1.25670846e+00,  1.55223374e+00,\n",
       "         1.37235130e+00,  5.85927435e-01,  1.22810057e-02,\n",
       "        -2.35096519e-01, -3.72449960e-01, -4.43451067e-01,\n",
       "        -4.45146847e-01, -3.77427691e-01, -2.46662603e-01,\n",
       "        -1.09481639e-01, -2.02625270e-01, -4.84097851e-01,\n",
       "        -1.74398403e-01,  6.27863003e-01,  1.13521514e+00,\n",
       "         1.35535038e+00,  1.48198178e+00,  1.54219600e+00,\n",
       "         1.53276221e+00,  1.45435465e+00],\n",
       "       [ 1.40625214e+00,  1.37126444e+00,  1.26889231e+00,\n",
       "         1.11853070e+00,  1.06501156e+00,  1.32397149e+00,\n",
       "         1.38233966e+00,  7.06312200e-01,  6.16711716e-03,\n",
       "        -3.15581613e-01, -4.76717312e-01, -5.68936378e-01,\n",
       "        -5.92862597e-01, -5.46875497e-01, -4.34540000e-01,\n",
       "        -2.83842924e-01, -2.73052063e-01, -5.59816196e-01,\n",
       "        -5.05086368e-01,  2.39173679e-01,  8.78567074e-01,\n",
       "         1.15952954e+00,  1.30821930e+00,  1.38989029e+00,\n",
       "         1.40271264e+00,  1.34580811e+00,  1.22393778e+00,\n",
       "         1.07723913e+00,  1.11606545e+00,  1.41159072e+00,\n",
       "         1.23170828e+00,  4.45284418e-01, -1.28362011e-01,\n",
       "        -3.75739536e-01, -5.13092978e-01, -5.84094084e-01,\n",
       "        -5.85789864e-01, -5.18070708e-01, -3.87305620e-01,\n",
       "        -2.50124656e-01, -3.43268287e-01, -6.24740868e-01,\n",
       "        -3.15041420e-01,  4.87219986e-01,  9.94572120e-01,\n",
       "         1.21470737e+00,  1.34133877e+00,  1.40155298e+00,\n",
       "         1.39211919e+00,  1.31371164e+00],\n",
       "       [ 1.36798944e+00,  1.33300175e+00,  1.23062961e+00,\n",
       "         1.08026801e+00,  1.02674887e+00,  1.28570879e+00,\n",
       "         1.34407697e+00,  6.68049503e-01, -3.20955790e-02,\n",
       "        -3.53844309e-01, -5.14980009e-01, -6.07199074e-01,\n",
       "        -6.31125293e-01, -5.85138193e-01, -4.72802696e-01,\n",
       "        -3.22105620e-01, -3.11314759e-01, -5.98078892e-01,\n",
       "        -5.43349064e-01,  2.00910983e-01,  8.40304377e-01,\n",
       "         1.12126685e+00,  1.26995660e+00,  1.35162759e+00,\n",
       "         1.36444994e+00,  1.30754541e+00,  1.18567509e+00,\n",
       "         1.03897644e+00,  1.07780275e+00,  1.37332803e+00,\n",
       "         1.19344558e+00,  4.07021722e-01, -1.66624708e-01,\n",
       "        -4.14002232e-01, -5.51355674e-01, -6.22356780e-01,\n",
       "        -6.24052560e-01, -5.56333404e-01, -4.25568316e-01,\n",
       "        -2.88387352e-01, -3.81530984e-01, -6.63003564e-01,\n",
       "        -3.53304117e-01,  4.48957289e-01,  9.56309424e-01,\n",
       "         1.17644467e+00,  1.30307607e+00,  1.36329029e+00,\n",
       "         1.35385650e+00,  1.27544894e+00],\n",
       "       [ 1.41541633e+00,  1.38042864e+00,  1.27805650e+00,\n",
       "         1.12769490e+00,  1.07417576e+00,  1.33313568e+00,\n",
       "         1.39150386e+00,  7.15476397e-01,  1.53313148e-02,\n",
       "        -3.06417415e-01, -4.67553115e-01, -5.59772180e-01,\n",
       "        -5.83698399e-01, -5.37711299e-01, -4.25375802e-01,\n",
       "        -2.74678726e-01, -2.63887866e-01, -5.50651999e-01,\n",
       "        -4.95922170e-01,  2.48337877e-01,  8.87731271e-01,\n",
       "         1.16869374e+00,  1.31738350e+00,  1.39905448e+00,\n",
       "         1.41187683e+00,  1.35497231e+00,  1.23310198e+00,\n",
       "         1.08640333e+00,  1.12522964e+00,  1.42075492e+00,\n",
       "         1.24087248e+00,  4.54448615e-01, -1.19197814e-01,\n",
       "        -3.66575338e-01, -5.03928780e-01, -5.74929886e-01,\n",
       "        -5.76625666e-01, -5.08906510e-01, -3.78141422e-01,\n",
       "        -2.40960458e-01, -3.34104090e-01, -6.15576670e-01,\n",
       "        -3.05877223e-01,  4.96384183e-01,  1.00373632e+00,\n",
       "         1.22387156e+00,  1.35050296e+00,  1.41071718e+00,\n",
       "         1.40128339e+00,  1.32287584e+00],\n",
       "       [ 1.56904485e+00,  1.53405716e+00,  1.43168502e+00,\n",
       "         1.28132342e+00,  1.22780427e+00,  1.48676420e+00,\n",
       "         1.54513238e+00,  8.69104913e-01,  1.68959830e-01,\n",
       "        -1.52788900e-01, -3.13924599e-01, -4.06143665e-01,\n",
       "        -4.30069884e-01, -3.84082784e-01, -2.71747286e-01,\n",
       "        -1.21050211e-01, -1.10259350e-01, -3.97023483e-01,\n",
       "        -3.42293655e-01,  4.01966393e-01,  1.04135979e+00,\n",
       "         1.32232226e+00,  1.47101201e+00,  1.55268300e+00,\n",
       "         1.56550535e+00,  1.50860082e+00,  1.38673050e+00,\n",
       "         1.24003184e+00,  1.27885816e+00,  1.57438344e+00,\n",
       "         1.39450099e+00,  6.08077131e-01,  3.44307018e-02,\n",
       "        -2.12946823e-01, -3.50300264e-01, -4.21301371e-01,\n",
       "        -4.22997150e-01, -3.55277995e-01, -2.24512907e-01,\n",
       "        -8.73319426e-02, -1.80475574e-01, -4.61948155e-01,\n",
       "        -1.52248707e-01,  6.50012699e-01,  1.15736483e+00,\n",
       "         1.37750008e+00,  1.50413148e+00,  1.56434570e+00,\n",
       "         1.55491190e+00,  1.47650435e+00],\n",
       "       [ 1.88252953e+00,  1.84754183e+00,  1.74516970e+00,\n",
       "         1.59480810e+00,  1.54128895e+00,  1.80024888e+00,\n",
       "         1.85861705e+00,  1.18258959e+00,  4.82444509e-01,\n",
       "         1.60695779e-01, -4.39920452e-04, -9.26589862e-02,\n",
       "        -1.16585205e-01, -7.05981049e-02,  4.17373924e-02,\n",
       "         1.92434468e-01,  2.03225329e-01, -8.35388044e-02,\n",
       "        -2.88089761e-02,  7.15451071e-01,  1.35484447e+00,\n",
       "         1.63580693e+00,  1.78449669e+00,  1.86616768e+00,\n",
       "         1.87899003e+00,  1.82208550e+00,  1.70021518e+00,\n",
       "         1.55351652e+00,  1.59234284e+00,  1.88786812e+00,\n",
       "         1.70798567e+00,  9.21561810e-01,  3.47915381e-01,\n",
       "         1.00537856e-01, -3.68155856e-02, -1.07816692e-01,\n",
       "        -1.09512472e-01, -4.17933158e-02,  8.89717719e-02,\n",
       "         2.26152736e-01,  1.33009104e-01, -1.48463476e-01,\n",
       "         1.61235971e-01,  9.63497377e-01,  1.47084951e+00,\n",
       "         1.69098476e+00,  1.81761616e+00,  1.87783038e+00,\n",
       "         1.86839658e+00,  1.78998903e+00],\n",
       "       [ 2.40689957e+00,  2.37191187e+00,  2.26953974e+00,\n",
       "         2.11917814e+00,  2.06565899e+00,  2.32461892e+00,\n",
       "         2.38298709e+00,  1.70695963e+00,  1.00681455e+00,\n",
       "         6.85065819e-01,  5.23930119e-01,  4.31711054e-01,\n",
       "         4.07784835e-01,  4.53771935e-01,  5.66107432e-01,\n",
       "         7.16804508e-01,  7.27595368e-01,  4.40831235e-01,\n",
       "         4.95561064e-01,  1.23982111e+00,  1.87921451e+00,\n",
       "         2.16017697e+00,  2.30886673e+00,  2.39053772e+00,\n",
       "         2.40336007e+00,  2.34645554e+00,  2.22458521e+00,\n",
       "         2.07788656e+00,  2.11671288e+00,  2.41223816e+00,\n",
       "         2.23235571e+00,  1.44593185e+00,  8.72285420e-01,\n",
       "         6.24907896e-01,  4.87554454e-01,  4.16553348e-01,\n",
       "         4.14857568e-01,  4.82576724e-01,  6.13341812e-01,\n",
       "         7.50522776e-01,  6.57379144e-01,  3.75906564e-01,\n",
       "         6.85606011e-01,  1.48786742e+00,  1.99521955e+00,\n",
       "         2.21535480e+00,  2.34198620e+00,  2.40220042e+00,\n",
       "         2.39276662e+00,  2.31435907e+00],\n",
       "       [ 3.08040337e+00,  3.04541568e+00,  2.94304354e+00,\n",
       "         2.79268194e+00,  2.73916280e+00,  2.99812272e+00,\n",
       "         3.05649090e+00,  2.38046344e+00,  1.68031835e+00,\n",
       "         1.35856962e+00,  1.19743392e+00,  1.10521486e+00,\n",
       "         1.08128864e+00,  1.12727574e+00,  1.23961124e+00,\n",
       "         1.39030831e+00,  1.40109917e+00,  1.11433504e+00,\n",
       "         1.16906487e+00,  1.91332492e+00,  2.55271831e+00,\n",
       "         2.83368078e+00,  2.98237054e+00,  3.06404152e+00,\n",
       "         3.07686387e+00,  3.01995935e+00,  2.89808902e+00,\n",
       "         2.75139037e+00,  2.79021668e+00,  3.08574196e+00,\n",
       "         2.90585952e+00,  2.11943565e+00,  1.54578923e+00,\n",
       "         1.29841170e+00,  1.16105826e+00,  1.09005715e+00,\n",
       "         1.08836137e+00,  1.15608053e+00,  1.28684562e+00,\n",
       "         1.42402658e+00,  1.33088295e+00,  1.04941037e+00,\n",
       "         1.35910982e+00,  2.16137122e+00,  2.66872336e+00,\n",
       "         2.88885860e+00,  3.01549000e+00,  3.07570422e+00,\n",
       "         3.06627043e+00,  2.98786287e+00],\n",
       "       [ 3.61801368e+00,  3.58302599e+00,  3.48065385e+00,\n",
       "         3.33029225e+00,  3.27677310e+00,  3.53573303e+00,\n",
       "         3.59410121e+00,  2.91807374e+00,  2.21792866e+00,\n",
       "         1.89617993e+00,  1.73504423e+00,  1.64282516e+00,\n",
       "         1.61889895e+00,  1.66488605e+00,  1.77722154e+00,\n",
       "         1.92791862e+00,  1.93870948e+00,  1.65194535e+00,\n",
       "         1.70667517e+00,  2.45093522e+00,  3.09032862e+00,\n",
       "         3.37129109e+00,  3.51998084e+00,  3.60165183e+00,\n",
       "         3.61447418e+00,  3.55756965e+00,  3.43569933e+00,\n",
       "         3.28900067e+00,  3.32782699e+00,  3.62335227e+00,\n",
       "         3.44346982e+00,  2.65704596e+00,  2.08339953e+00,\n",
       "         1.83602201e+00,  1.69866857e+00,  1.62766746e+00,\n",
       "         1.62597168e+00,  1.69369084e+00,  1.82445592e+00,\n",
       "         1.96163689e+00,  1.86849326e+00,  1.58702067e+00,\n",
       "         1.89672012e+00,  2.69898153e+00,  3.20633366e+00,\n",
       "         3.42646891e+00,  3.55310031e+00,  3.61331453e+00,\n",
       "         3.60388073e+00,  3.52547318e+00],\n",
       "       [ 3.66534605e+00,  3.63035836e+00,  3.52798622e+00,\n",
       "         3.37762462e+00,  3.32410548e+00,  3.58306540e+00,\n",
       "         3.64143358e+00,  2.96540611e+00,  2.26526103e+00,\n",
       "         1.94351230e+00,  1.78237660e+00,  1.69015754e+00,\n",
       "         1.66623132e+00,  1.71221842e+00,  1.82455391e+00,\n",
       "         1.97525099e+00,  1.98604185e+00,  1.69927772e+00,\n",
       "         1.75400755e+00,  2.49826759e+00,  3.13766099e+00,\n",
       "         3.41862346e+00,  3.56731321e+00,  3.64898420e+00,\n",
       "         3.66180655e+00,  3.60490202e+00,  3.48303170e+00,\n",
       "         3.33633305e+00,  3.37515936e+00,  3.67068464e+00,\n",
       "         3.49080219e+00,  2.70437833e+00,  2.13073190e+00,\n",
       "         1.88335438e+00,  1.74600094e+00,  1.67499983e+00,\n",
       "         1.67330405e+00,  1.74102321e+00,  1.87178829e+00,\n",
       "         2.00896926e+00,  1.91582563e+00,  1.63435305e+00,\n",
       "         1.94405249e+00,  2.74631390e+00,  3.25366603e+00,\n",
       "         3.47380128e+00,  3.60043268e+00,  3.66064690e+00,\n",
       "         3.65121311e+00,  3.57280555e+00],\n",
       "       [ 3.18664860e+00,  3.15166091e+00,  3.04928878e+00,\n",
       "         2.89892717e+00,  2.84540803e+00,  3.10436795e+00,\n",
       "         3.16273613e+00,  2.48670867e+00,  1.78656359e+00,\n",
       "         1.46481486e+00,  1.30367916e+00,  1.21146009e+00,\n",
       "         1.18753387e+00,  1.23352097e+00,  1.34585647e+00,\n",
       "         1.49655354e+00,  1.50734441e+00,  1.22058027e+00,\n",
       "         1.27531010e+00,  2.01957015e+00,  2.65896354e+00,\n",
       "         2.93992601e+00,  3.08861577e+00,  3.17028676e+00,\n",
       "         3.18310910e+00,  3.12620458e+00,  3.00433425e+00,\n",
       "         2.85763560e+00,  2.89646192e+00,  3.19198719e+00,\n",
       "         3.01210475e+00,  2.22568089e+00,  1.65203446e+00,\n",
       "         1.40465693e+00,  1.26730349e+00,  1.19630238e+00,\n",
       "         1.19460660e+00,  1.26232576e+00,  1.39309085e+00,\n",
       "         1.53027181e+00,  1.43712818e+00,  1.15565560e+00,\n",
       "         1.46535505e+00,  2.26761645e+00,  2.77496859e+00,\n",
       "         2.99510383e+00,  3.12173524e+00,  3.18194945e+00,\n",
       "         3.17251566e+00,  3.09410811e+00],\n",
       "       [ 2.51001334e+00,  2.47502565e+00,  2.37265351e+00,\n",
       "         2.22229191e+00,  2.16877277e+00,  2.42773269e+00,\n",
       "         2.48610087e+00,  1.81007340e+00,  1.10992832e+00,\n",
       "         7.88179591e-01,  6.27043892e-01,  5.34824826e-01,\n",
       "         5.10898607e-01,  5.56885707e-01,  6.69221204e-01,\n",
       "         8.19918280e-01,  8.30709141e-01,  5.43945008e-01,\n",
       "         5.98674836e-01,  1.34293488e+00,  1.98232828e+00,\n",
       "         2.26329075e+00,  2.41198050e+00,  2.49365149e+00,\n",
       "         2.50647384e+00,  2.44956931e+00,  2.32769899e+00,\n",
       "         2.18100034e+00,  2.21982665e+00,  2.51535193e+00,\n",
       "         2.33546948e+00,  1.54904562e+00,  9.75399193e-01,\n",
       "         7.28021668e-01,  5.90668226e-01,  5.19667120e-01,\n",
       "         5.17971340e-01,  5.85690496e-01,  7.16455584e-01,\n",
       "         8.53636548e-01,  7.60492917e-01,  4.79020336e-01,\n",
       "         7.88719784e-01,  1.59098119e+00,  2.09833332e+00,\n",
       "         2.31846857e+00,  2.44509997e+00,  2.50531419e+00,\n",
       "         2.49588040e+00,  2.41747284e+00]])"
      ]
     },
     "execution_count": 87,
     "metadata": {},
     "output_type": "execute_result"
    }
   ],
   "source": [
    "z=np.sin(x)**13+np.cos(x)+np.exp(np.tan(y))**np.cos(y)\n",
    "z"
   ]
  },
  {
   "cell_type": "code",
   "execution_count": 88,
   "id": "3f1ea734-b638-44a5-a820-2b814f9d5540",
   "metadata": {},
   "outputs": [
    {
     "data": {
      "text/plain": [
       "array([False, False, False,  True,  True,  True])"
      ]
     },
     "execution_count": 88,
     "metadata": {},
     "output_type": "execute_result"
    }
   ],
   "source": [
    "c=np.array([1,2,3,4,5,6])\n",
    "c>3"
   ]
  },
  {
   "cell_type": "code",
   "execution_count": 89,
   "id": "34e3a5d3-60ed-494e-928f-67d7998ea7e3",
   "metadata": {},
   "outputs": [
    {
     "data": {
      "text/plain": [
       "array([False, False, False,  True, False, False])"
      ]
     },
     "execution_count": 89,
     "metadata": {},
     "output_type": "execute_result"
    }
   ],
   "source": [
    "(c>3) & (c<5)    #use bitwise logic here"
   ]
  },
  {
   "cell_type": "code",
   "execution_count": 90,
   "id": "bcbd338b-7099-4c75-97b0-d1761be2d022",
   "metadata": {},
   "outputs": [
    {
     "data": {
      "text/plain": [
       "array([0, 0, 0, 1, 1, 1])"
      ]
     },
     "execution_count": 90,
     "metadata": {},
     "output_type": "execute_result"
    }
   ],
   "source": [
    "np.where(c>3,1,0)"
   ]
  },
  {
   "cell_type": "code",
   "execution_count": 91,
   "id": "4fa7f65b-affa-439c-a28a-4b8e1f13bca8",
   "metadata": {},
   "outputs": [
    {
     "data": {
      "text/plain": [
       "3"
      ]
     },
     "execution_count": 91,
     "metadata": {},
     "output_type": "execute_result"
    }
   ],
   "source": [
    "np.count_nonzero(c>3)"
   ]
  },
  {
   "cell_type": "code",
   "execution_count": 92,
   "id": "df5b5af2-8cc4-4126-afa3-c3f4c1f988aa",
   "metadata": {},
   "outputs": [
    {
     "data": {
      "text/plain": [
       "3"
      ]
     },
     "execution_count": 92,
     "metadata": {},
     "output_type": "execute_result"
    }
   ],
   "source": [
    "np.sum(c>3)"
   ]
  },
  {
   "cell_type": "code",
   "execution_count": 93,
   "id": "a6d09ff2-4965-416d-b9f7-3dbb8cfb246b",
   "metadata": {},
   "outputs": [
    {
     "data": {
      "text/plain": [
       "True"
      ]
     },
     "execution_count": 93,
     "metadata": {},
     "output_type": "execute_result"
    }
   ],
   "source": [
    "np.any(c>3)"
   ]
  },
  {
   "cell_type": "code",
   "execution_count": 94,
   "id": "eab6e1a0-0dcc-463c-b944-535950c843e0",
   "metadata": {},
   "outputs": [
    {
     "data": {
      "text/plain": [
       "False"
      ]
     },
     "execution_count": 94,
     "metadata": {},
     "output_type": "execute_result"
    }
   ],
   "source": [
    "np.all(c>3)"
   ]
  },
  {
   "cell_type": "code",
   "execution_count": 95,
   "id": "782cacac-984c-4a10-a3a9-8d8a45d56c34",
   "metadata": {},
   "outputs": [
    {
     "data": {
      "text/plain": [
       "array([4, 5, 6])"
      ]
     },
     "execution_count": 95,
     "metadata": {},
     "output_type": "execute_result"
    }
   ],
   "source": [
    "c[c>3]"
   ]
  },
  {
   "cell_type": "code",
   "execution_count": null,
   "id": "f678edf2-c75f-4705-98be-a957f8616b9f",
   "metadata": {},
   "outputs": [],
   "source": []
  }
 ],
 "metadata": {
  "kernelspec": {
   "display_name": "Python [conda env:base] *",
   "language": "python",
   "name": "conda-base-py"
  },
  "language_info": {
   "codemirror_mode": {
    "name": "ipython",
    "version": 3
   },
   "file_extension": ".py",
   "mimetype": "text/x-python",
   "name": "python",
   "nbconvert_exporter": "python",
   "pygments_lexer": "ipython3",
   "version": "3.12.7"
  }
 },
 "nbformat": 4,
 "nbformat_minor": 5
}
